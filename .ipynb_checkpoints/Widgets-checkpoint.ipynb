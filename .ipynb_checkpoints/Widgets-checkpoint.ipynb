{
 "cells": [
  {
   "cell_type": "markdown",
   "id": "9b8e25e4",
   "metadata": {},
   "source": [
    "# Widgets"
   ]
  },
  {
   "cell_type": "code",
   "execution_count": 13,
   "id": "78b39a6e",
   "metadata": {},
   "outputs": [],
   "source": [
    "import matplotlib.pyplot as plt\n",
    "import numpy as np\n",
    "import ipywidgets as widgets\n",
    "from IPython.display import display\n",
    "\n",
    "import os"
   ]
  },
  {
   "cell_type": "code",
   "execution_count": 22,
   "id": "e67d8754",
   "metadata": {},
   "outputs": [
    {
     "data": {
      "application/vnd.jupyter.widget-view+json": {
       "model_id": "c5bbf47071d644089c192badbdd90571",
       "version_major": 2,
       "version_minor": 0
      },
      "text/plain": [
       "interactive(children=(IntSlider(value=1, description='Text:', max=1000, min=1), Output()), _dom_classes=('widg…"
      ]
     },
     "metadata": {},
     "output_type": "display_data"
    }
   ],
   "source": [
    "def Exponent(maxIteration):\n",
    "    x = np.arange(maxIteration)\n",
    "    y = np.exp(x)\n",
    "    \n",
    "    plt.scatter(x,y, color='g', marker='o')\n",
    "    plt.xlabel('X')\n",
    "    plt.ylabel('Y')\n",
    "    plt.title('Widget')\n",
    "    plt.show()\n",
    "    \n",
    "maxIteration = widgets.IntSlider(min=1,max=1000, value=1, description='Text:')\n",
    "\n",
    "widgets.interactive(Exponent, maxIteration=maxIteration)"
   ]
  },
  {
   "cell_type": "code",
   "execution_count": null,
   "id": "a18f848e",
   "metadata": {},
   "outputs": [],
   "source": []
  }
 ],
 "metadata": {
  "kernelspec": {
   "display_name": "Python 3 (ipykernel)",
   "language": "python",
   "name": "python3"
  },
  "language_info": {
   "codemirror_mode": {
    "name": "ipython",
    "version": 3
   },
   "file_extension": ".py",
   "mimetype": "text/x-python",
   "name": "python",
   "nbconvert_exporter": "python",
   "pygments_lexer": "ipython3",
   "version": "3.10.9"
  }
 },
 "nbformat": 4,
 "nbformat_minor": 5
}
